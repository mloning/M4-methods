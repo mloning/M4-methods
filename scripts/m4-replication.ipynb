{
 "cells": [
  {
   "cell_type": "markdown",
   "metadata": {},
   "source": [
    "# Replicating the M4 competition using sktime\n",
    "\n",
    "Resources: \n",
    "* [Github repo of the M4 competition](https://github.com/M4Competition/M4-methods)"
   ]
  },
  {
   "cell_type": "markdown",
   "metadata": {},
   "source": [
    "## Preliminaries"
   ]
  },
  {
   "cell_type": "code",
   "execution_count": 1,
   "metadata": {},
   "outputs": [],
   "source": [
    "import numpy as np\n",
    "import pandas as pd\n",
    "import seaborn as sns\n",
    "import os\n",
    "from scipy.stats import wilcoxon, binom_test\n",
    "from sklearn.utils.validation import check_consistent_length\n",
    "import matplotlib.pyplot as plt\n",
    "from statsmodels.tsa.holtwinters import ExponentialSmoothing\n",
    "\n",
    "from losses import smape_loss\n",
    "from losses import mase_loss\n",
    "\n",
    "%matplotlib inline"
   ]
  },
  {
   "cell_type": "code",
   "execution_count": 2,
   "metadata": {},
   "outputs": [
    {
     "data": {
      "application/vnd.jupyter.widget-view+json": {
       "model_id": "60830842700341da8aa65f1bee7b04d7",
       "version_major": 2,
       "version_minor": 0
      },
      "text/plain": [
       "interactive(children=(IntSlider(value=220, description='h_neg', max=359), IntSlider(value=10, description='h_p…"
      ]
     },
     "metadata": {},
     "output_type": "display_data"
    }
   ],
   "source": [
    "cmap = sns.choose_diverging_palette()"
   ]
  },
  {
   "cell_type": "markdown",
   "metadata": {},
   "source": [
    "### Set paths"
   ]
  },
  {
   "cell_type": "code",
   "execution_count": 3,
   "metadata": {},
   "outputs": [],
   "source": [
    "repodir = \"/Users/mloning/Documents/Research/python_methods/m4-methods/\"\n",
    "datadir = os.path.join(repodir, \"Dataset\")\n",
    "traindir = os.path.join(datadir, 'Train')\n",
    "testdir = os.path.join(datadir, 'Test')\n",
    "resultsdir = os.path.join(repodir, \"predictions\")\n",
    "\n",
    "assert os.path.exists(datadir)\n",
    "assert os.path.exists(traindir)\n",
    "assert os.path.exists(testdir)\n",
    "assert os.path.exists(resultsdir)"
   ]
  },
  {
   "cell_type": "markdown",
   "metadata": {},
   "source": [
    "### Load results from M4 competition for comparison"
   ]
  },
  {
   "cell_type": "code",
   "execution_count": 4,
   "metadata": {},
   "outputs": [],
   "source": [
    "m4_results = pd.read_excel(os.path.join(repodir, 'Evaluation and Ranks.xlsx'), \n",
    "                        sheet_name='Point Forecasts-Frequency',\n",
    "                        header=[0, 1]).dropna(axis=0)\n",
    "\n",
    "original_mase_means = m4_results.loc[:, ['Method', 'MASE']]\n",
    "original_mase_means.columns = original_mase_means.columns.droplevel()\n",
    "original_mase_means = original_mase_means.set_index('User ID')\n",
    "\n",
    "original_smape_means = m4_results.loc[:, ['Method', 'sMAPE']]\n",
    "original_smape_means.columns = original_smape_means.columns.droplevel()\n",
    "original_smape_means = original_smape_means.set_index('User ID')"
   ]
  },
  {
   "cell_type": "code",
   "execution_count": 5,
   "metadata": {},
   "outputs": [
    {
     "name": "stdout",
     "output_type": "stream",
     "text": [
      "['Naive', 'sNaive', 'Naive2', 'SES', 'Holt', 'Damped', 'Theta', 'Com', 'MLP', 'RNN']\n"
     ]
    }
   ],
   "source": [
    "strategies = m4_results.loc[:, ['Method', 'User ID']].iloc[:, 0]\n",
    "baselines = [strategy for strategy in strategies if isinstance(strategy, str)]\n",
    "print(baselines)"
   ]
  },
  {
   "cell_type": "code",
   "execution_count": 6,
   "metadata": {},
   "outputs": [],
   "source": [
    "selected_baselines = ['Naive', 'Naive2', 'SES', 'Holt', 'Damped']"
   ]
  },
  {
   "cell_type": "code",
   "execution_count": 7,
   "metadata": {},
   "outputs": [
    {
     "name": "stdout",
     "output_type": "stream",
     "text": [
      "(5, 6) (5, 6)\n"
     ]
    }
   ],
   "source": [
    "original_smape_means = original_smape_means.loc[selected_baselines, :].sort_index().drop(columns='Total')\n",
    "original_smape_means.index.name = None\n",
    "\n",
    "original_mase_means = original_mase_means.loc[selected_baselines, :].sort_index().drop(columns='Total')\n",
    "original_mase_means.index.name = None\n",
    "\n",
    "print(original_mase_means.shape, original_smape_means.shape)"
   ]
  },
  {
   "cell_type": "markdown",
   "metadata": {},
   "source": [
    "### Import meta data"
   ]
  },
  {
   "cell_type": "code",
   "execution_count": 8,
   "metadata": {},
   "outputs": [],
   "source": [
    "import pandas as pd\n",
    "info = pd.read_csv(os.path.join(datadir, 'M4-info.csv'))"
   ]
  },
  {
   "cell_type": "code",
   "execution_count": 9,
   "metadata": {},
   "outputs": [
    {
     "data": {
      "text/html": [
       "<div>\n",
       "<style scoped>\n",
       "    .dataframe tbody tr th:only-of-type {\n",
       "        vertical-align: middle;\n",
       "    }\n",
       "\n",
       "    .dataframe tbody tr th {\n",
       "        vertical-align: top;\n",
       "    }\n",
       "\n",
       "    .dataframe thead th {\n",
       "        text-align: right;\n",
       "    }\n",
       "</style>\n",
       "<table border=\"1\" class=\"dataframe\">\n",
       "  <thead>\n",
       "    <tr style=\"text-align: right;\">\n",
       "      <th></th>\n",
       "      <th>M4id</th>\n",
       "      <th>category</th>\n",
       "      <th>Frequency</th>\n",
       "      <th>Horizon</th>\n",
       "      <th>SP</th>\n",
       "      <th>StartingDate</th>\n",
       "    </tr>\n",
       "  </thead>\n",
       "  <tbody>\n",
       "    <tr>\n",
       "      <th>0</th>\n",
       "      <td>Y1</td>\n",
       "      <td>Macro</td>\n",
       "      <td>1</td>\n",
       "      <td>6</td>\n",
       "      <td>Yearly</td>\n",
       "      <td>01-01-79 12:00</td>\n",
       "    </tr>\n",
       "    <tr>\n",
       "      <th>1</th>\n",
       "      <td>Y2</td>\n",
       "      <td>Macro</td>\n",
       "      <td>1</td>\n",
       "      <td>6</td>\n",
       "      <td>Yearly</td>\n",
       "      <td>01-01-79 12:00</td>\n",
       "    </tr>\n",
       "    <tr>\n",
       "      <th>2</th>\n",
       "      <td>Y3</td>\n",
       "      <td>Macro</td>\n",
       "      <td>1</td>\n",
       "      <td>6</td>\n",
       "      <td>Yearly</td>\n",
       "      <td>01-01-79 12:00</td>\n",
       "    </tr>\n",
       "    <tr>\n",
       "      <th>3</th>\n",
       "      <td>Y4</td>\n",
       "      <td>Macro</td>\n",
       "      <td>1</td>\n",
       "      <td>6</td>\n",
       "      <td>Yearly</td>\n",
       "      <td>01-01-79 12:00</td>\n",
       "    </tr>\n",
       "    <tr>\n",
       "      <th>4</th>\n",
       "      <td>Y5</td>\n",
       "      <td>Macro</td>\n",
       "      <td>1</td>\n",
       "      <td>6</td>\n",
       "      <td>Yearly</td>\n",
       "      <td>01-01-79 12:00</td>\n",
       "    </tr>\n",
       "  </tbody>\n",
       "</table>\n",
       "</div>"
      ],
      "text/plain": [
       "  M4id category  Frequency  Horizon      SP    StartingDate\n",
       "0   Y1    Macro          1        6  Yearly  01-01-79 12:00\n",
       "1   Y2    Macro          1        6  Yearly  01-01-79 12:00\n",
       "2   Y3    Macro          1        6  Yearly  01-01-79 12:00\n",
       "3   Y4    Macro          1        6  Yearly  01-01-79 12:00\n",
       "4   Y5    Macro          1        6  Yearly  01-01-79 12:00"
      ]
     },
     "execution_count": 9,
     "metadata": {},
     "output_type": "execute_result"
    }
   ],
   "source": [
    "info.head()"
   ]
  },
  {
   "cell_type": "code",
   "execution_count": 10,
   "metadata": {},
   "outputs": [
    {
     "name": "stdout",
     "output_type": "stream",
     "text": [
      "100000\n"
     ]
    }
   ],
   "source": [
    "n_datasets = info.shape[0]\n",
    "print(n_datasets)"
   ]
  },
  {
   "cell_type": "code",
   "execution_count": 11,
   "metadata": {},
   "outputs": [
    {
     "data": {
      "text/plain": [
       "Micro          25121\n",
       "Finance        24534\n",
       "Macro          19402\n",
       "Industry       18798\n",
       "Demographic     8708\n",
       "Other           3437\n",
       "Name: category, dtype: int64"
      ]
     },
     "execution_count": 11,
     "metadata": {},
     "output_type": "execute_result"
    }
   ],
   "source": [
    "info.category.value_counts()"
   ]
  },
  {
   "cell_type": "code",
   "execution_count": 12,
   "metadata": {},
   "outputs": [
    {
     "data": {
      "text/plain": [
       "{'Monthly': 48000,\n",
       " 'Quarterly': 24000,\n",
       " 'Yearly': 23000,\n",
       " 'Daily': 4227,\n",
       " 'Hourly': 414,\n",
       " 'Weekly': 359}"
      ]
     },
     "execution_count": 12,
     "metadata": {},
     "output_type": "execute_result"
    }
   ],
   "source": [
    "n_series = info.SP.value_counts().to_dict()\n",
    "n_series"
   ]
  },
  {
   "cell_type": "code",
   "execution_count": 13,
   "metadata": {},
   "outputs": [
    {
     "data": {
      "text/plain": [
       "{'Yearly': 6,\n",
       " 'Quarterly': 8,\n",
       " 'Monthly': 18,\n",
       " 'Weekly': 13,\n",
       " 'Daily': 14,\n",
       " 'Hourly': 48}"
      ]
     },
     "execution_count": 13,
     "metadata": {},
     "output_type": "execute_result"
    }
   ],
   "source": [
    "# dictionary of forecasting horizons\n",
    "fhs = info.set_index('SP').Horizon.to_dict()\n",
    "fhs"
   ]
  },
  {
   "cell_type": "code",
   "execution_count": 14,
   "metadata": {},
   "outputs": [
    {
     "data": {
      "text/plain": [
       "{'Yearly': 1,\n",
       " 'Quarterly': 4,\n",
       " 'Monthly': 12,\n",
       " 'Weekly': 1,\n",
       " 'Daily': 1,\n",
       " 'Hourly': 24}"
      ]
     },
     "execution_count": 14,
     "metadata": {},
     "output_type": "execute_result"
    }
   ],
   "source": [
    "# dictionary of frequencies\n",
    "sps = info.set_index('SP').Frequency.to_dict()\n",
    "sps"
   ]
  },
  {
   "cell_type": "code",
   "execution_count": 15,
   "metadata": {},
   "outputs": [
    {
     "data": {
      "text/html": [
       "<div>\n",
       "<style scoped>\n",
       "    .dataframe tbody tr th:only-of-type {\n",
       "        vertical-align: middle;\n",
       "    }\n",
       "\n",
       "    .dataframe tbody tr th {\n",
       "        vertical-align: top;\n",
       "    }\n",
       "\n",
       "    .dataframe thead th {\n",
       "        text-align: right;\n",
       "    }\n",
       "</style>\n",
       "<table border=\"1\" class=\"dataframe\">\n",
       "  <thead>\n",
       "    <tr style=\"text-align: right;\">\n",
       "      <th></th>\n",
       "      <th>M4id</th>\n",
       "      <th>category</th>\n",
       "      <th>Frequency</th>\n",
       "      <th>Horizon</th>\n",
       "      <th>SP</th>\n",
       "      <th>StartingDate</th>\n",
       "    </tr>\n",
       "  </thead>\n",
       "  <tbody>\n",
       "    <tr>\n",
       "      <th>47003</th>\n",
       "      <td>M4</td>\n",
       "      <td>Macro</td>\n",
       "      <td>12</td>\n",
       "      <td>18</td>\n",
       "      <td>Monthly</td>\n",
       "      <td>01-09-08 12:00</td>\n",
       "    </tr>\n",
       "  </tbody>\n",
       "</table>\n",
       "</div>"
      ],
      "text/plain": [
       "      M4id category  Frequency  Horizon       SP    StartingDate\n",
       "47003   M4    Macro         12       18  Monthly  01-09-08 12:00"
      ]
     },
     "execution_count": 15,
     "metadata": {},
     "output_type": "execute_result"
    }
   ],
   "source": [
    "# look up individual time series\n",
    "info.loc[info.loc[:, 'M4id'] == 'M4', :]"
   ]
  },
  {
   "cell_type": "code",
   "execution_count": 16,
   "metadata": {},
   "outputs": [
    {
     "data": {
      "text/plain": [
       "['Weekly-train.csv',\n",
       " 'Daily-train.csv',\n",
       " 'Hourly-train.csv',\n",
       " 'Monthly-train.csv',\n",
       " 'Yearly-train.csv',\n",
       " 'Quarterly-train.csv']"
      ]
     },
     "execution_count": 16,
     "metadata": {},
     "output_type": "execute_result"
    }
   ],
   "source": [
    "files = os.listdir(traindir)\n",
    "files"
   ]
  },
  {
   "cell_type": "code",
   "execution_count": 17,
   "metadata": {},
   "outputs": [
    {
     "data": {
      "text/plain": [
       "['Weekly', 'Daily', 'Hourly', 'Monthly', 'Yearly', 'Quarterly']"
      ]
     },
     "execution_count": 17,
     "metadata": {},
     "output_type": "execute_result"
    }
   ],
   "source": [
    "datasets = [f.split('-')[0] for f in files]\n",
    "datasets"
   ]
  },
  {
   "cell_type": "code",
   "execution_count": 18,
   "metadata": {},
   "outputs": [
    {
     "data": {
      "text/plain": [
       "['W', 'D', 'H', 'M', 'Y', 'Q']"
      ]
     },
     "execution_count": 18,
     "metadata": {},
     "output_type": "execute_result"
    }
   ],
   "source": [
    "[dataset[0] for dataset in datasets]"
   ]
  },
  {
   "cell_type": "markdown",
   "metadata": {},
   "source": [
    "### Load training data files"
   ]
  },
  {
   "cell_type": "code",
   "execution_count": 17,
   "metadata": {},
   "outputs": [
    {
     "data": {
      "text/html": [
       "<div>\n",
       "<style scoped>\n",
       "    .dataframe tbody tr th:only-of-type {\n",
       "        vertical-align: middle;\n",
       "    }\n",
       "\n",
       "    .dataframe tbody tr th {\n",
       "        vertical-align: top;\n",
       "    }\n",
       "\n",
       "    .dataframe thead th {\n",
       "        text-align: right;\n",
       "    }\n",
       "</style>\n",
       "<table border=\"1\" class=\"dataframe\">\n",
       "  <thead>\n",
       "    <tr style=\"text-align: right;\">\n",
       "      <th></th>\n",
       "      <th>count</th>\n",
       "      <th>mean</th>\n",
       "      <th>std</th>\n",
       "      <th>min</th>\n",
       "      <th>25%</th>\n",
       "      <th>50%</th>\n",
       "      <th>75%</th>\n",
       "      <th>max</th>\n",
       "      <th>total_n_obs</th>\n",
       "      <th>fh</th>\n",
       "    </tr>\n",
       "  </thead>\n",
       "  <tbody>\n",
       "    <tr>\n",
       "      <th>Monthly</th>\n",
       "      <td>48000.0</td>\n",
       "      <td>216.300229</td>\n",
       "      <td>137.406295</td>\n",
       "      <td>42.0</td>\n",
       "      <td>82.0</td>\n",
       "      <td>202.0</td>\n",
       "      <td>306.0</td>\n",
       "      <td>2794.0</td>\n",
       "      <td>10382411.0</td>\n",
       "      <td>18</td>\n",
       "    </tr>\n",
       "    <tr>\n",
       "      <th>Daily</th>\n",
       "      <td>4227.0</td>\n",
       "      <td>2357.383014</td>\n",
       "      <td>1756.568917</td>\n",
       "      <td>93.0</td>\n",
       "      <td>323.0</td>\n",
       "      <td>2940.0</td>\n",
       "      <td>4197.0</td>\n",
       "      <td>9919.0</td>\n",
       "      <td>9964658.0</td>\n",
       "      <td>14</td>\n",
       "    </tr>\n",
       "    <tr>\n",
       "      <th>Quarterly</th>\n",
       "      <td>24000.0</td>\n",
       "      <td>92.254500</td>\n",
       "      <td>51.129507</td>\n",
       "      <td>16.0</td>\n",
       "      <td>62.0</td>\n",
       "      <td>88.0</td>\n",
       "      <td>115.0</td>\n",
       "      <td>866.0</td>\n",
       "      <td>2214108.0</td>\n",
       "      <td>8</td>\n",
       "    </tr>\n",
       "    <tr>\n",
       "      <th>Yearly</th>\n",
       "      <td>23000.0</td>\n",
       "      <td>31.324261</td>\n",
       "      <td>24.523966</td>\n",
       "      <td>13.0</td>\n",
       "      <td>20.0</td>\n",
       "      <td>29.0</td>\n",
       "      <td>40.0</td>\n",
       "      <td>835.0</td>\n",
       "      <td>720458.0</td>\n",
       "      <td>6</td>\n",
       "    </tr>\n",
       "    <tr>\n",
       "      <th>Weekly</th>\n",
       "      <td>359.0</td>\n",
       "      <td>1022.038997</td>\n",
       "      <td>707.148455</td>\n",
       "      <td>80.0</td>\n",
       "      <td>379.0</td>\n",
       "      <td>934.0</td>\n",
       "      <td>1603.0</td>\n",
       "      <td>2597.0</td>\n",
       "      <td>366912.0</td>\n",
       "      <td>13</td>\n",
       "    </tr>\n",
       "    <tr>\n",
       "      <th>Hourly</th>\n",
       "      <td>414.0</td>\n",
       "      <td>853.864734</td>\n",
       "      <td>127.945362</td>\n",
       "      <td>700.0</td>\n",
       "      <td>700.0</td>\n",
       "      <td>960.0</td>\n",
       "      <td>960.0</td>\n",
       "      <td>960.0</td>\n",
       "      <td>353500.0</td>\n",
       "      <td>48</td>\n",
       "    </tr>\n",
       "  </tbody>\n",
       "</table>\n",
       "</div>"
      ],
      "text/plain": [
       "             count         mean          std    min    25%     50%     75%  \\\n",
       "Monthly    48000.0   216.300229   137.406295   42.0   82.0   202.0   306.0   \n",
       "Daily       4227.0  2357.383014  1756.568917   93.0  323.0  2940.0  4197.0   \n",
       "Quarterly  24000.0    92.254500    51.129507   16.0   62.0    88.0   115.0   \n",
       "Yearly     23000.0    31.324261    24.523966   13.0   20.0    29.0    40.0   \n",
       "Weekly       359.0  1022.038997   707.148455   80.0  379.0   934.0  1603.0   \n",
       "Hourly       414.0   853.864734   127.945362  700.0  700.0   960.0   960.0   \n",
       "\n",
       "              max  total_n_obs  fh  \n",
       "Monthly    2794.0   10382411.0  18  \n",
       "Daily      9919.0    9964658.0  14  \n",
       "Quarterly   866.0    2214108.0   8  \n",
       "Yearly      835.0     720458.0   6  \n",
       "Weekly     2597.0     366912.0  13  \n",
       "Hourly      960.0     353500.0  48  "
      ]
     },
     "execution_count": 17,
     "metadata": {},
     "output_type": "execute_result"
    }
   ],
   "source": [
    "sl = []\n",
    "for dataset in datasets:\n",
    "    alltrain = pd.read_csv(os.path.join(traindir, f'{dataset}-train.csv'),\n",
    "                           index_col=0)\n",
    "    sl.append(alltrain.notna().sum(axis=1).describe())\n",
    "\n",
    "series_lengths = pd.concat(sl, axis=1).T\n",
    "series_lengths.index = datasets\n",
    "series_lengths['total_n_obs'] = series_lengths['count'] * series_lengths['mean']\n",
    "series_lengths['fh'] = pd.Series(fhs)\n",
    "series_lengths.sort_values('total_n_obs', ascending=False)"
   ]
  },
  {
   "cell_type": "markdown",
   "metadata": {},
   "source": [
    "### Compute scores"
   ]
  },
  {
   "cell_type": "code",
   "execution_count": 18,
   "metadata": {},
   "outputs": [],
   "source": [
    "selected_datasets = datasets\n",
    "\n",
    "replicated_mase_means = dict()\n",
    "replicated_smape_means = dict()\n",
    "\n",
    "# for each dataset\n",
    "for dataset in selected_datasets:\n",
    "    sp = sps[dataset]\n",
    "    fh = fhs[dataset]\n",
    "    n = n_series[dataset]\n",
    "\n",
    "    replicated_mase_means[dataset] = dict()\n",
    "    replicated_smape_means[dataset] = dict()\n",
    "\n",
    "    # sort index as done during benchmarking\n",
    "    alltrain = pd.read_csv(os.path.join(traindir, f'{dataset}-train.csv'), index_col=0).sort_index()\n",
    "    alltest = pd.read_csv(os.path.join(testdir, f'{dataset}-test.csv'), index_col=0).sort_index()\n",
    "\n",
    "    # for each strategy\n",
    "    for strategy in selected_baselines:\n",
    "        \n",
    "        # load replicated forecasts\n",
    "        file = os.path.join(resultsdir, strategy, f'{strategy}_{dataset}_forecasts.txt')\n",
    "        y_preds = np.loadtxt(file)\n",
    "        assert y_preds.shape == (n, fh)\n",
    "\n",
    "        # for each series\n",
    "        mases = np.zeros(n)\n",
    "        smapes = np.zeros(n)\n",
    "        for i in range(n):\n",
    "            \n",
    "            # select series\n",
    "            y_train = alltrain.iloc[i, :].dropna().reset_index(drop=True).values\n",
    "            y_test = alltest.iloc[i, :].dropna().reset_index(drop=True).values\n",
    "            y_pred = y_preds[i, :]\n",
    "            assert y_test.shape == y_pred.shape\n",
    "            \n",
    "            # compute losses on each series\n",
    "            mases[i] = mase_loss(y_test, y_pred, y_train, sp=sp)\n",
    "            smapes[i] = smape_loss(y_test, y_pred)\n",
    "            \n",
    "        # average losses over series for each dataset\n",
    "        replicated_mase_means[dataset][strategy] = np.nanmean(mases)\n",
    "        replicated_smape_means[dataset][strategy] = np.nanmean(smapes)"
   ]
  },
  {
   "cell_type": "code",
   "execution_count": 22,
   "metadata": {},
   "outputs": [],
   "source": [
    "# save calculated errors\n",
    "replicated_mase_means = pd.DataFrame(replicated_mase_means)\n",
    "replicated_smape_means = pd.DataFrame(replicated_smape_means)\n",
    "\n",
    "replicated_mase_means.to_csv(os.path.join(resultsdir, 'replicated_mase_means.csv'))\n",
    "replicated_smape_means.to_csv(os.path.join(resultsdir, 'replicated_smape_means.csv'))"
   ]
  },
  {
   "cell_type": "markdown",
   "metadata": {},
   "source": [
    "### Compare results"
   ]
  },
  {
   "cell_type": "code",
   "execution_count": 18,
   "metadata": {},
   "outputs": [],
   "source": [
    "def percentage_difference(x, y):\n",
    "    return (x - y) / x * 100"
   ]
  },
  {
   "cell_type": "code",
   "execution_count": 19,
   "metadata": {},
   "outputs": [],
   "source": [
    "# reload saved results\n",
    "replicated_mase_means = pd.read_csv(os.path.join(resultsdir, 'replicated_mase_means.csv'), index_col=0)\n",
    "replicated_smape_means = pd.read_csv(os.path.join(resultsdir, 'replicated_smape_means.csv'), index_col=0)"
   ]
  },
  {
   "cell_type": "code",
   "execution_count": 23,
   "metadata": {},
   "outputs": [],
   "source": [
    "replicated_smape_means = pd.DataFrame(replicated_smape_means).round(3).sort_index()\n",
    "replicated_smape_means = replicated_smape_means.loc[:, ['Yearly', 'Quarterly', 'Monthly', 'Weekly', 'Daily', 'Hourly']]\n",
    "\n",
    "percdiff_smape = percentage_difference(original_smape_means, replicated_smape_means.round(3)).round(3)"
   ]
  },
  {
   "cell_type": "code",
   "execution_count": 24,
   "metadata": {},
   "outputs": [],
   "source": [
    "replicated_mase_means = pd.DataFrame(replicated_mase_means).round(3).sort_index()\n",
    "replicated_mase_means = replicated_mase_means.loc[:, ['Yearly', 'Quarterly', 'Monthly', 'Weekly', 'Daily', 'Hourly']]\n",
    "\n",
    "percdiff_mase = percentage_difference(original_mase_means, replicated_mase_means.round(3)).round(3)"
   ]
  },
  {
   "cell_type": "code",
   "execution_count": 25,
   "metadata": {},
   "outputs": [
    {
     "data": {
      "image/png": "[encoded data removed]",
      "text/plain": [
       "<Figure size 1152x288 with 2 Axes>"
      ]
     },
     "metadata": {
      "needs_background": "light"
     },
     "output_type": "display_data"
    }
   ],
   "source": [
    "fig, (ax0, ax1) = plt.subplots(ncols=2, figsize=plt.figaspect(.25))\n",
    "g = sns.heatmap(percdiff_mase, annot=True, cmap=cmap, center=0, cbar=False, ax=ax0)\n",
    "g.set(title='MASE %-difference (original vs replicated)')\n",
    "g = sns.heatmap(percdiff_smape, annot=True, cmap=cmap, center=0, cbar=False, ax=ax1)\n",
    "g.set(title='SMAPE %-difference (original vs replicated)');"
   ]
  },
  {
   "cell_type": "markdown",
   "metadata": {},
   "source": [
    "* lower MASE or SMAPE is better\n",
    "* negative difference means replicated error is worse than original one"
   ]
  },
  {
   "cell_type": "markdown",
   "metadata": {},
   "source": [
    "### Look into deviations"
   ]
  },
  {
   "cell_type": "code",
   "execution_count": 19,
   "metadata": {},
   "outputs": [],
   "source": [
    "def compute_wilcoxon(x, y):\n",
    "    return wilcoxon(x, y).pvalue\n",
    "\n",
    "def compute_binomial(x, y):\n",
    "    x_wins = x > y\n",
    "    y_wins = y > x\n",
    "    draw = x == y\n",
    "    p_bin = binom_test(np.sum(x_wins), n=x.shape[0], p=0.5, alternative='two-sided')\n",
    "    return p_bin"
   ]
  },
  {
   "cell_type": "code",
   "execution_count": 20,
   "metadata": {},
   "outputs": [],
   "source": [
    "def compare_scores(x, y, title=None, xlabel=None, ylabel=None, ax=None):\n",
    "    \"\"\"Helper function to compare scores visually and statistically \n",
    "    using the Wilcoxon signed rank test and binomial test\n",
    "    \"\"\"\n",
    "    \n",
    "    if ax is None:\n",
    "        fig, ax = plt.subplots(1)\n",
    "    \n",
    "    p_wil = compute_wilcoxon(x, y)\n",
    "    p_bin = compute_binomial(x, y)\n",
    "    \n",
    "    title = f\"{title} \\nwilcoxon pval: {np.round(p_wil, 4)} \\nbinomial pval: {np.round(p_bin, 4)}\"\n",
    "    \n",
    "    max_ax = np.max([np.nanmax(x), np.nanmax(y)])\n",
    "    ax.scatter(x, y)\n",
    "    ax.plot([0, max_ax], [0, max_ax], 'red', linewidth=1)\n",
    "    ax.set(title=title, xlabel=xlabel, ylabel=ylabel)\n",
    "    return ax"
   ]
  },
  {
   "cell_type": "code",
   "execution_count": 21,
   "metadata": {},
   "outputs": [],
   "source": [
    "def compute_scores(strategy, dataset):\n",
    "    sp = sps[dataset]\n",
    "\n",
    "    n_fh = fhs[dataset]\n",
    "    fh = np.arange(n_fh) + 1\n",
    "\n",
    "    n = n_series[dataset]\n",
    "\n",
    "    file = os.path.join(resultsdir, strategy, f'{strategy}_{dataset}_forecasts.txt')\n",
    "    y_preds = np.loadtxt(file)\n",
    "    assert y_preds.shape == (n, n_fh)\n",
    "\n",
    "    alltrain = pd.read_csv(os.path.join(traindir, f'{dataset}-train.csv'), index_col=0).sort_index()\n",
    "    alltest = pd.read_csv(os.path.join(testdir, f'{dataset}-test.csv'), index_col=0).sort_index()\n",
    "    assert alltest.shape == y_preds.shape\n",
    "    \n",
    "    y_preds_original = pd.read_csv(os.path.join(repodir, 'Point Forecasts', f'submission-{strategy}.csv'))\n",
    "    y_preds_original = (y_preds_original\n",
    "                        .loc[y_preds_original.id.str.startswith(dataset[0]), :]\n",
    "                        .set_index('id')\n",
    "                        .sort_index()\n",
    "                        .dropna(axis=1)\n",
    "                        .values)\n",
    "    assert y_preds_original.shape == y_preds.shape\n",
    "    \n",
    "    replicated_mases = np.zeros(n)\n",
    "    replicated_smapes = np.zeros(n)\n",
    "\n",
    "    original_mases = np.zeros(n)\n",
    "    original_smapes = np.zeros(n)\n",
    "\n",
    "    for i in range(n):\n",
    "        y_train = alltrain.iloc[i, :].dropna().values\n",
    "        y_test = alltest.iloc[i, :].dropna().values\n",
    "        y_pred = y_preds[i, :]\n",
    "        y_pred_original = y_preds_original[i, :]\n",
    "        assert y_test.shape == y_pred.shape\n",
    "\n",
    "        replicated_mases[i] = mase_loss(y_test, y_pred, y_train, sp=sp)\n",
    "        replicated_smapes[i] = smape_loss(y_test, y_pred)\n",
    "\n",
    "        original_mases[i] = mase_loss(y_test, y_pred_original, y_train, sp=sp)\n",
    "        original_smapes[i] = smape_loss(y_test, y_pred_original)\n",
    "    \n",
    "    return replicated_mases, replicated_smapes, original_mases, original_smapes"
   ]
  },
  {
   "cell_type": "code",
   "execution_count": 99,
   "metadata": {},
   "outputs": [],
   "source": [
    "strategy = 'Damped'\n",
    "dataset = 'Daily'"
   ]
  },
  {
   "cell_type": "code",
   "execution_count": 100,
   "metadata": {},
   "outputs": [],
   "source": [
    "replicated_mases, replicated_smapes, original_mases, original_smapes = compute_scores(strategy, dataset)\n",
    "\n",
    "assert np.nanmean(replicated_mases).round(3) == replicated_mase_means.loc[strategy, dataset]\n",
    "assert np.nanmean(replicated_smapes).round(3) == replicated_smape_means.loc[strategy, dataset]\n",
    "assert np.nanmean(original_mases).round(3) == original_mase_means.loc[strategy, dataset]\n",
    "assert np.nanmean(original_smapes).round(3) == original_smape_means.loc[strategy, dataset]"
   ]
  },
  {
   "cell_type": "code",
   "execution_count": 102,
   "metadata": {
    "scrolled": true
   },
   "outputs": [
    {
     "data": {
      "image/png": "[encoded data removed]",
      "text/plain": [
       "<Figure size 1152x288 with 2 Axes>"
      ]
     },
     "metadata": {
      "needs_background": "light"
     },
     "output_type": "display_data"
    }
   ],
   "source": [
    "fig, (ax0, ax1) = plt.subplots(ncols=2, figsize=plt.figaspect(.25))\n",
    "compare_scores(replicated_smapes, original_smapes, \n",
    "               xlabel='replicated', ylabel='original', title='SMAPE', \n",
    "               ax=ax0)\n",
    "compare_scores(replicated_mases, original_mases,\n",
    "               xlabel='replicated', ylabel='original', title='MASE', \n",
    "               ax=ax1);"
   ]
  },
  {
   "cell_type": "markdown",
   "metadata": {},
   "source": [
    "* If the Wilcoxon p-value is less than 0.05, the observed difference between both measurements is significant \n",
    "* If the binomial p-value is less than 0.05, the null hypothesis that one scores from one set are larger than scores from the other set can be rejected, i.e. they are likely to come from the same distribution."
   ]
  },
  {
   "cell_type": "markdown",
   "metadata": {},
   "source": [
    "### Rerun on specific series"
   ]
  },
  {
   "cell_type": "code",
   "execution_count": 170,
   "metadata": {},
   "outputs": [],
   "source": [
    "# sort index as done during benchmarking\n",
    "alltrain = pd.read_csv(os.path.join(traindir, f'{dataset}-train.csv'), index_col=0).sort_index()\n",
    "alltest = pd.read_csv(os.path.join(testdir, f'{dataset}-test.csv'), index_col=0).sort_index()"
   ]
  },
  {
   "cell_type": "code",
   "execution_count": 182,
   "metadata": {},
   "outputs": [
    {
     "data": {
      "image/png": "[encoded data removed]",
      "text/plain": [
       "<Figure size 432x288 with 1 Axes>"
      ]
     },
     "metadata": {
      "needs_background": "light"
     },
     "output_type": "display_data"
    }
   ],
   "source": [
    "abs_diff = np.abs(replicated_smapes - original_smapes)\n",
    "plt.boxplot(abs_diff, vert=False);"
   ]
  },
  {
   "cell_type": "code",
   "execution_count": 183,
   "metadata": {},
   "outputs": [],
   "source": [
    "sorted_index = np.argsort(abs_diff)\n",
    "assert sorted_index[-1] == np.argmax(abs_diff)"
   ]
  },
  {
   "cell_type": "code",
   "execution_count": 232,
   "metadata": {},
   "outputs": [],
   "source": [
    "idx = sorted_index[-5]"
   ]
  },
  {
   "cell_type": "code",
   "execution_count": 233,
   "metadata": {},
   "outputs": [
    {
     "data": {
      "text/plain": [
       "'D3500'"
      ]
     },
     "execution_count": 233,
     "metadata": {},
     "output_type": "execute_result"
    }
   ],
   "source": [
    "series_id = alltrain.iloc[idx].name\n",
    "series_id"
   ]
  },
  {
   "cell_type": "code",
   "execution_count": 234,
   "metadata": {},
   "outputs": [
    {
     "data": {
      "image/png": "[encoded data removed]",
      "text/plain": [
       "<Figure size 432x288 with 1 Axes>"
      ]
     },
     "metadata": {
      "needs_background": "light"
     },
     "output_type": "display_data"
    }
   ],
   "source": [
    "y_train = alltrain.loc[series_id].dropna().reset_index(drop=True)\n",
    "y_train.plot();"
   ]
  },
  {
   "cell_type": "code",
   "execution_count": 241,
   "metadata": {},
   "outputs": [
    {
     "data": {
      "image/png": "[encoded data removed]",
      "text/plain": [
       "<Figure size 432x288 with 1 Axes>"
      ]
     },
     "metadata": {
      "needs_background": "light"
     },
     "output_type": "display_data"
    }
   ],
   "source": [
    "y_test = alltest.loc[series_id].dropna().reset_index(drop=True)\n",
    "y_test.index = y_test.index + y_train.shape[0]\n",
    "\n",
    "y_preds_original = pd.read_csv(os.path.join(repodir, 'Point Forecasts', f'submission-{strategy}.csv'), index_col=0)\n",
    "y_pred_original = y_preds_original.loc[series_id].reset_index(drop=True).dropna()\n",
    "y_pred_original.index = y_pred_original.index + y_train.shape[0]\n",
    "\n",
    "# fit/forecast\n",
    "fh = fhs[dataset]\n",
    "from statsmodels.tsa.holtwinters import ExponentialSmoothing\n",
    "m = ExponentialSmoothing(y_train, trend='add', damped=True)\n",
    "mf = m.fit(use_basinhopping=True)\n",
    "y_pred = mf.forecast(fh)\n",
    "\n",
    "# plot\n",
    "fig, ax = plt.subplots(1)\n",
    "y_train.iloc[-100:].plot(ax=ax, label='train')\n",
    "y_test.plot(ax=ax, label='test')\n",
    "y_pred.plot(ax=ax, label='replicated')\n",
    "y_pred_original.plot(ax=ax, label='M4');\n",
    "plt.legend();"
   ]
  },
  {
   "cell_type": "code",
   "execution_count": 237,
   "metadata": {},
   "outputs": [
    {
     "data": {
      "text/plain": [
       "135.2773423926527"
      ]
     },
     "execution_count": 237,
     "metadata": {},
     "output_type": "execute_result"
    }
   ],
   "source": [
    "mase = smape_loss(y_test, y_pred)\n",
    "mase"
   ]
  },
  {
   "cell_type": "code",
   "execution_count": 238,
   "metadata": {},
   "outputs": [],
   "source": [
    "assert y_train.iloc[0] == mf._results.params['initial_level']"
   ]
  },
  {
   "cell_type": "code",
   "execution_count": 178,
   "metadata": {},
   "outputs": [
    {
     "data": {
      "text/plain": [
       "{'smoothing_level': 0.0,\n",
       " 'smoothing_slope': 0.0,\n",
       " 'smoothing_seasonal': nan,\n",
       " 'damping_slope': 0.7368421052631579,\n",
       " 'initial_level': 2153.0,\n",
       " 'initial_slope': 0.0,\n",
       " 'initial_seasons': array([], dtype=float64),\n",
       " 'use_boxcox': False,\n",
       " 'lamda': None,\n",
       " 'remove_bias': False}"
      ]
     },
     "execution_count": 178,
     "metadata": {},
     "output_type": "execute_result"
    }
   ],
   "source": [
    "mf._results.params"
   ]
  },
  {
   "cell_type": "markdown",
   "metadata": {},
   "source": [
    "* what goes wrong is the slope estimation, while the damping slope parameter is fitted, the trend/slope is not properly estimated and falls back to zero, with the first value of the training set as the level value"
   ]
  },
  {
   "cell_type": "markdown",
   "metadata": {},
   "source": [
    "### Compute p-values"
   ]
  },
  {
   "cell_type": "code",
   "execution_count": 24,
   "metadata": {},
   "outputs": [
    {
     "data": {
      "text/plain": [
       "['Weekly', 'Daily', 'Hourly', 'Monthly', 'Yearly', 'Quarterly']"
      ]
     },
     "execution_count": 24,
     "metadata": {},
     "output_type": "execute_result"
    }
   ],
   "source": [
    "datasets"
   ]
  },
  {
   "cell_type": "code",
   "execution_count": 25,
   "metadata": {},
   "outputs": [
    {
     "name": "stderr",
     "output_type": "stream",
     "text": [
      "/Users/mloning/.conda/envs/sktime/lib/python3.7/site-packages/scipy/stats/morestats.py:2778: UserWarning: Warning: sample size too small for normal approximation.\n",
      "  warnings.warn(\"Warning: sample size too small for normal approximation.\")\n",
      "/Users/mloning/.conda/envs/sktime/lib/python3.7/site-packages/scipy/stats/morestats.py:2803: RuntimeWarning: invalid value encountered in double_scalars\n",
      "  z = (T - mn - correction) / se\n",
      "/Users/mloning/.conda/envs/sktime/lib/python3.7/site-packages/scipy/stats/morestats.py:2778: UserWarning: Warning: sample size too small for normal approximation.\n",
      "  warnings.warn(\"Warning: sample size too small for normal approximation.\")\n",
      "/Users/mloning/.conda/envs/sktime/lib/python3.7/site-packages/scipy/stats/morestats.py:2778: UserWarning: Warning: sample size too small for normal approximation.\n",
      "  warnings.warn(\"Warning: sample size too small for normal approximation.\")\n",
      "/Users/mloning/.conda/envs/sktime/lib/python3.7/site-packages/scipy/stats/morestats.py:2803: RuntimeWarning: invalid value encountered in double_scalars\n",
      "  z = (T - mn - correction) / se\n",
      "/Users/mloning/.conda/envs/sktime/lib/python3.7/site-packages/scipy/stats/morestats.py:2778: UserWarning: Warning: sample size too small for normal approximation.\n",
      "  warnings.warn(\"Warning: sample size too small for normal approximation.\")\n",
      "/Users/mloning/.conda/envs/sktime/lib/python3.7/site-packages/scipy/stats/morestats.py:2778: UserWarning: Warning: sample size too small for normal approximation.\n",
      "  warnings.warn(\"Warning: sample size too small for normal approximation.\")\n",
      "/Users/mloning/.conda/envs/sktime/lib/python3.7/site-packages/scipy/stats/morestats.py:2803: RuntimeWarning: invalid value encountered in double_scalars\n",
      "  z = (T - mn - correction) / se\n",
      "/Users/mloning/.conda/envs/sktime/lib/python3.7/site-packages/scipy/stats/morestats.py:2778: UserWarning: Warning: sample size too small for normal approximation.\n",
      "  warnings.warn(\"Warning: sample size too small for normal approximation.\")\n",
      "/Users/mloning/.conda/envs/sktime/lib/python3.7/site-packages/ipykernel_launcher.py:5: RuntimeWarning: invalid value encountered in greater\n",
      "  \"\"\"\n",
      "/Users/mloning/.conda/envs/sktime/lib/python3.7/site-packages/ipykernel_launcher.py:6: RuntimeWarning: invalid value encountered in greater\n",
      "  \n",
      "/Users/mloning/.conda/envs/sktime/lib/python3.7/site-packages/scipy/stats/morestats.py:2781: RuntimeWarning: invalid value encountered in greater\n",
      "  r_plus = np.sum((d > 0) * r, axis=0)\n",
      "/Users/mloning/.conda/envs/sktime/lib/python3.7/site-packages/scipy/stats/morestats.py:2782: RuntimeWarning: invalid value encountered in less\n",
      "  r_minus = np.sum((d < 0) * r, axis=0)\n",
      "/Users/mloning/.conda/envs/sktime/lib/python3.7/site-packages/ipykernel_launcher.py:5: RuntimeWarning: invalid value encountered in greater\n",
      "  \"\"\"\n",
      "/Users/mloning/.conda/envs/sktime/lib/python3.7/site-packages/ipykernel_launcher.py:6: RuntimeWarning: invalid value encountered in greater\n",
      "  \n",
      "/Users/mloning/.conda/envs/sktime/lib/python3.7/site-packages/scipy/stats/morestats.py:2781: RuntimeWarning: invalid value encountered in greater\n",
      "  r_plus = np.sum((d > 0) * r, axis=0)\n",
      "/Users/mloning/.conda/envs/sktime/lib/python3.7/site-packages/scipy/stats/morestats.py:2782: RuntimeWarning: invalid value encountered in less\n",
      "  r_minus = np.sum((d < 0) * r, axis=0)\n",
      "/Users/mloning/.conda/envs/sktime/lib/python3.7/site-packages/ipykernel_launcher.py:5: RuntimeWarning: invalid value encountered in greater\n",
      "  \"\"\"\n",
      "/Users/mloning/.conda/envs/sktime/lib/python3.7/site-packages/ipykernel_launcher.py:6: RuntimeWarning: invalid value encountered in greater\n",
      "  \n",
      "/Users/mloning/.conda/envs/sktime/lib/python3.7/site-packages/scipy/stats/morestats.py:2781: RuntimeWarning: invalid value encountered in greater\n",
      "  r_plus = np.sum((d > 0) * r, axis=0)\n",
      "/Users/mloning/.conda/envs/sktime/lib/python3.7/site-packages/scipy/stats/morestats.py:2782: RuntimeWarning: invalid value encountered in less\n",
      "  r_minus = np.sum((d < 0) * r, axis=0)\n",
      "/Users/mloning/.conda/envs/sktime/lib/python3.7/site-packages/ipykernel_launcher.py:5: RuntimeWarning: invalid value encountered in greater\n",
      "  \"\"\"\n",
      "/Users/mloning/.conda/envs/sktime/lib/python3.7/site-packages/ipykernel_launcher.py:6: RuntimeWarning: invalid value encountered in greater\n",
      "  \n",
      "/Users/mloning/.conda/envs/sktime/lib/python3.7/site-packages/scipy/stats/morestats.py:2781: RuntimeWarning: invalid value encountered in greater\n",
      "  r_plus = np.sum((d > 0) * r, axis=0)\n",
      "/Users/mloning/.conda/envs/sktime/lib/python3.7/site-packages/scipy/stats/morestats.py:2782: RuntimeWarning: invalid value encountered in less\n",
      "  r_minus = np.sum((d < 0) * r, axis=0)\n",
      "/Users/mloning/.conda/envs/sktime/lib/python3.7/site-packages/ipykernel_launcher.py:5: RuntimeWarning: invalid value encountered in greater\n",
      "  \"\"\"\n",
      "/Users/mloning/.conda/envs/sktime/lib/python3.7/site-packages/ipykernel_launcher.py:6: RuntimeWarning: invalid value encountered in greater\n",
      "  \n",
      "/Users/mloning/.conda/envs/sktime/lib/python3.7/site-packages/scipy/stats/morestats.py:2781: RuntimeWarning: invalid value encountered in greater\n",
      "  r_plus = np.sum((d > 0) * r, axis=0)\n",
      "/Users/mloning/.conda/envs/sktime/lib/python3.7/site-packages/scipy/stats/morestats.py:2782: RuntimeWarning: invalid value encountered in less\n",
      "  r_minus = np.sum((d < 0) * r, axis=0)\n",
      "/Users/mloning/.conda/envs/sktime/lib/python3.7/site-packages/ipykernel_launcher.py:5: RuntimeWarning: invalid value encountered in greater\n",
      "  \"\"\"\n",
      "/Users/mloning/.conda/envs/sktime/lib/python3.7/site-packages/ipykernel_launcher.py:6: RuntimeWarning: invalid value encountered in greater\n",
      "  \n",
      "/Users/mloning/.conda/envs/sktime/lib/python3.7/site-packages/scipy/stats/morestats.py:2781: RuntimeWarning: invalid value encountered in greater\n",
      "  r_plus = np.sum((d > 0) * r, axis=0)\n",
      "/Users/mloning/.conda/envs/sktime/lib/python3.7/site-packages/scipy/stats/morestats.py:2782: RuntimeWarning: invalid value encountered in less\n",
      "  r_minus = np.sum((d < 0) * r, axis=0)\n"
     ]
    }
   ],
   "source": [
    "smape_binomial = np.zeros((len(selected_baselines), len(datasets)))\n",
    "mase_binomial = np.zeros((len(selected_baselines), len(datasets)))\n",
    "\n",
    "smape_wilcoxon = np.zeros((len(selected_baselines), len(datasets)))\n",
    "mase_wilcoxon = np.zeros((len(selected_baselines), len(datasets)))\n",
    "\n",
    "\n",
    "for i, strategy in enumerate(selected_baselines):\n",
    "    for j, dataset in enumerate(datasets):\n",
    "        replicated_mases, replicated_smapes, original_mases, original_smapes = compute_scores(strategy, dataset)\n",
    "        \n",
    "        smape_binomial[i, j] = compute_binomial(replicated_smapes, original_smapes)\n",
    "        mase_binomial[i, j] = compute_binomial(replicated_mases, original_mases)\n",
    "        \n",
    "        smape_wilcoxon[i, j] = compute_wilcoxon(replicated_smapes, original_smapes)\n",
    "        mase_wilcoxon[i, j] = compute_wilcoxon(replicated_mases, original_mases)"
   ]
  },
  {
   "cell_type": "code",
   "execution_count": 32,
   "metadata": {},
   "outputs": [
    {
     "data": {
      "image/png": "[encoded data removed]",
      "text/plain": [
       "<Figure size 1152x288 with 2 Axes>"
      ]
     },
     "metadata": {
      "needs_background": "light"
     },
     "output_type": "display_data"
    }
   ],
   "source": [
    "smape_binomial = pd.DataFrame(smape_binomial, index=selected_baselines, columns=datasets).round(3).sort_index()\n",
    "smape_wilcoxon = pd.DataFrame(smape_wilcoxon, index=selected_baselines, columns=datasets).round(3).sort_index()\n",
    "\n",
    "fig, (ax0, ax1) = plt.subplots(ncols=2, figsize=plt.figaspect(.25))\n",
    "g = sns.heatmap(smape_binomial, annot=True, cmap=cmap, center=0, cbar=False, ax=ax0)\n",
    "g.set(title='SMAPE binomial p-values (original vs replicated)')\n",
    "g = sns.heatmap(smape_wilcoxon, annot=True, cmap=cmap, center=0, cbar=False, ax=ax1)\n",
    "g.set(title='SMAPE Wilxocon p-values (original vs replicated)');"
   ]
  },
  {
   "cell_type": "code",
   "execution_count": null,
   "metadata": {},
   "outputs": [],
   "source": []
  },
  {
   "cell_type": "code",
   "execution_count": null,
   "metadata": {},
   "outputs": [],
   "source": []
  },
  {
   "cell_type": "code",
   "execution_count": null,
   "metadata": {},
   "outputs": [],
   "source": []
  },
  {
   "cell_type": "markdown",
   "metadata": {},
   "source": [
    "### Replicate errors on specific series"
   ]
  },
  {
   "cell_type": "code",
   "execution_count": 144,
   "metadata": {},
   "outputs": [
    {
     "data": {
      "image/png": "[encoded data removed]",
      "text/plain": [
       "<Figure size 432x288 with 1 Axes>"
      ]
     },
     "metadata": {
      "needs_background": "light"
     },
     "output_type": "display_data"
    }
   ],
   "source": [
    "import pandas as pd\n",
    "import numpy as np\n",
    "import os\n",
    "from statsmodels.tsa.holtwinters import ExponentialSmoothing\n",
    "import matplotlib.pyplot as plt\n",
    "\n",
    "# set paths\n",
    "repodir = \"/Users/mloning/Documents/Research/python_methods/m4-methods/\"\n",
    "datadir = os.path.join(repodir, \"Dataset\")\n",
    "traindir = os.path.join(datadir, 'Train')\n",
    "testdir = os.path.join(datadir, 'Test')\n",
    "\n",
    "# select dataset/series\n",
    "dataset = 'Daily'\n",
    "series_id = dataset[0] + str(703)\n",
    "\n",
    "# load data\n",
    "alltrain = pd.read_csv(os.path.join(traindir, f'{dataset}-train.csv'), index_col=0)\n",
    "alltest = pd.read_csv(os.path.join(testdir, f'{dataset}-test.csv'), index_col=0)\n",
    "\n",
    "y_train = alltrain.loc[series_id].dropna().reset_index(drop=True)\n",
    "\n",
    "y_test = alltest.loc[series_id].dropna().reset_index(drop=True)\n",
    "y_test.index = y_test.index + y_train.shape[0]\n",
    "\n",
    "y_preds_original = pd.read_csv(os.path.join(repodir, 'Point Forecasts', 'submission-Damped.csv'), index_col=0)\n",
    "y_pred_original = y_preds_original.loc[series_id].reset_index(drop=True).dropna()\n",
    "y_pred_original.index = y_pred_original.index + y_train.shape[0]\n",
    "\n",
    "# fit/forecast\n",
    "m = ExponentialSmoothing(y_train, trend='add', damped=True)\n",
    "mf = m.fit()\n",
    "y_pred = mf.forecast(14)\n",
    "\n",
    "# plot\n",
    "fig, ax = plt.subplots(1)\n",
    "y_train.iloc[-100:].plot(ax=ax, label='train')\n",
    "y_test.plot(ax=ax, label='test')\n",
    "y_pred.plot(ax=ax, label='replicated')\n",
    "y_pred_original.plot(ax=ax, label='original');\n",
    "plt.legend();"
   ]
  },
  {
   "cell_type": "code",
   "execution_count": null,
   "metadata": {},
   "outputs": [],
   "source": [
    "import pandas as pd\n",
    "import numpy as np\n",
    "import os\n",
    "from statsmodels.tsa.holtwinters import ExponentialSmoothing\n",
    "import matplotlib.pyplot as plt\n",
    "\n",
    "# set paths\n",
    "repodir = \"/Users/mloning/Documents/Research/python_methods/m4-methods/\"\n",
    "datadir = os.path.join(repodir, \"Dataset\")\n",
    "traindir = os.path.join(datadir, 'Train')\n",
    "testdir = os.path.join(datadir, 'Test')\n",
    "\n",
    "# select dataset/series\n",
    "dataset = 'Daily'\n",
    "series_id = dataset[0] + str(703)\n",
    "\n",
    "# load data\n",
    "alltrain = pd.read_csv(os.path.join(traindir, f'{dataset}-train.csv'), index_col=0)\n",
    "alltest = pd.read_csv(os.path.join(testdir, f'{dataset}-test.csv'), index_col=0)\n",
    "\n",
    "y_train = alltrain.loc[series_id].dropna().reset_index(drop=True)\n",
    "\n",
    "y_test = alltest.loc[series_id].dropna().reset_index(drop=True)\n",
    "y_test.index = y_test.index + y_train.shape[0]\n",
    "\n",
    "y_preds_original = pd.read_csv(os.path.join(repodir, 'Point Forecasts', 'submission-Damped.csv'), index_col=0)\n",
    "y_pred_original = y_preds_original.loc[series_id].reset_index(drop=True).dropna()\n",
    "y_pred_original.index = y_pred_original.index + y_train.shape[0]\n",
    "\n",
    "# fit/forecast\n",
    "m = ExponentialSmoothing(y_train, trend='add', damped=True)\n",
    "mfd = m.fit()\n",
    "y_pred_d = mfd.forecast(14)\n",
    "\n",
    "m = ExponentialSmoothing(y_train, trend='add', damped=False)\n",
    "mfu = m.fit()\n",
    "y_pred_u = mfu.forecast(14)"
   ]
  },
  {
   "cell_type": "code",
   "execution_count": 178,
   "metadata": {},
   "outputs": [
    {
     "data": {
      "image/png": "[encoded data removed]",
      "text/plain": [
       "<Figure size 432x288 with 1 Axes>"
      ]
     },
     "metadata": {
      "needs_background": "light"
     },
     "output_type": "display_data"
    }
   ],
   "source": [
    "# plot\n",
    "fig, ax = plt.subplots(1)\n",
    "y_train.iloc[-100:].plot(ax=ax, label='train')\n",
    "y_test.plot(ax=ax, label='test')\n",
    "#y_pred_d.plot(ax=ax, label='damped')\n",
    "y_pred_u.plot(ax=ax, label='undamped')\n",
    "y_pred_original.plot(ax=ax, label='original');\n",
    "plt.legend();"
   ]
  },
  {
   "cell_type": "code",
   "execution_count": 182,
   "metadata": {},
   "outputs": [
    {
     "data": {
      "text/plain": [
       "18301.1"
      ]
     },
     "execution_count": 182,
     "metadata": {},
     "output_type": "execute_result"
    }
   ],
   "source": [
    "y_train.iloc[-1]"
   ]
  },
  {
   "cell_type": "markdown",
   "metadata": {},
   "source": [
    "initial_level\n",
    "smoothing_slope\n",
    "initial_slope"
   ]
  },
  {
   "cell_type": "code",
   "execution_count": 180,
   "metadata": {},
   "outputs": [
    {
     "data": {
      "text/plain": [
       "{'data': <statsmodels.base.data.PandasData at 0x7ffb10421710>,\n",
       " 'fittedfcast': array([ 4127.48893983,  4128.53497602,  4094.39498384, ...,\n",
       "        18034.2099253 , 18105.0033864 , 18305.80259685]),\n",
       " 'fittedvalues': array([ 4127.48893983,  4128.53497602,  4094.39498384, ...,\n",
       "        18115.9295566 , 18034.2099253 , 18105.0033864 ]),\n",
       " 'fcastvalues': array([18305.80259685]),\n",
       " 'sse': 30842386.372629553,\n",
       " 'level': array([ 4127.69826273,  4093.59002396,  3957.13914823, ...,\n",
       "        18028.12869901, 18098.86341149, 18299.48590168]),\n",
       " 'slope': array([0.83671328, 0.80495988, 0.68023974, ..., 6.08122628, 6.13997491,\n",
       "        6.31669517]),\n",
       " 'season': array([0., 0., 0., ..., 0., 0., 0.]),\n",
       " 'aic': 37370.84909611828,\n",
       " 'bic': 37396.21759717162,\n",
       " 'aicc': 37370.86914385098,\n",
       " 'resid': array([   0.21106017,  -35.23497602, -138.39498384, ...,  -88.5295566 ,\n",
       "          65.1900747 ,  196.0966136 ]),\n",
       " 'k': 4,\n",
       " 'params': {'smoothing_level': 0.9917688618279866,\n",
       "  'smoothing_slope': 0.0009086691329995814,\n",
       "  'smoothing_seasonal': nan,\n",
       "  'damping_slope': nan,\n",
       "  'initial_level': 4126.6524167514035,\n",
       "  'initial_slope': 0.836523076844428,\n",
       "  'initial_seasons': array([], dtype=float64),\n",
       "  'use_boxcox': False,\n",
       "  'lamda': None,\n",
       "  'remove_bias': False},\n",
       " 'model': <statsmodels.tsa.holtwinters.ExponentialSmoothing at 0x7ffb1256aba8>,\n",
       " 'k_constant': 0,\n",
       " '_data_attr': [],\n",
       " 'mle_retvals':       fun: 30842386.372629553\n",
       "  hess_inv: <4x4 LbfgsInvHessProduct with dtype=float64>\n",
       "       jac: array([-1.00061297e+03,  5.27761877e+03, -3.72529030e-01,  1.49011612e+00])\n",
       "   message: b'CONVERGENCE: REL_REDUCTION_OF_F_<=_FACTR*EPSMCH'\n",
       "      nfev: 180\n",
       "       nit: 20\n",
       "    status: 0\n",
       "   success: True\n",
       "         x: array([9.91768862e-01, 9.08669133e-04, 4.12665242e+03, 8.36523077e-01])}"
      ]
     },
     "execution_count": 180,
     "metadata": {},
     "output_type": "execute_result"
    }
   ],
   "source": [
    "mfu._results.__dict__[]"
   ]
  },
  {
   "cell_type": "code",
   "execution_count": 181,
   "metadata": {},
   "outputs": [
    {
     "data": {
      "text/plain": [
       "{'data': <statsmodels.base.data.PandasData at 0x7ffb10421978>,\n",
       " 'fittedfcast': array([4127.7, 4127.7, 4127.7, ..., 4127.7, 4127.7, 4127.7]),\n",
       " 'fittedvalues': array([4127.7, 4127.7, 4127.7, ..., 4127.7, 4127.7, 4127.7]),\n",
       " 'fcastvalues': array([4127.7]),\n",
       " 'sse': 121510574038.16998,\n",
       " 'level': array([4127.7, 4127.7, 4127.7, ..., 4127.7, 4127.7, 4127.7]),\n",
       " 'slope': array([0., 0., 0., ..., 0., 0., 0.]),\n",
       " 'season': array([0., 0., 0., ..., 0., 0., 0.]),\n",
       " 'aic': 72119.2523936697,\n",
       " 'bic': 72150.96301998636,\n",
       " 'aicc': 72119.27913036103,\n",
       " 'resid': array([    0. ,   -34.4,  -171.7, ..., 13899.7, 13971.7, 14173.4]),\n",
       " 'k': 5,\n",
       " 'params': {'smoothing_level': 0.0,\n",
       "  'smoothing_slope': 0.0,\n",
       "  'smoothing_seasonal': nan,\n",
       "  'damping_slope': 0.7368421052631579,\n",
       "  'initial_level': 4127.7,\n",
       "  'initial_slope': 0.0,\n",
       "  'initial_seasons': array([], dtype=float64),\n",
       "  'use_boxcox': False,\n",
       "  'lamda': None,\n",
       "  'remove_bias': False},\n",
       " 'model': <statsmodels.tsa.holtwinters.ExponentialSmoothing at 0x7ffb104218d0>,\n",
       " 'k_constant': 0,\n",
       " '_data_attr': [],\n",
       " 'mle_retvals':       fun: 30893297.84558985\n",
       "  hess_inv: <5x5 LbfgsInvHessProduct with dtype=float64>\n",
       "       jac: array([1.21478039e+19, 0.00000000e+00, 0.00000000e+00, 0.00000000e+00,\n",
       "        0.00000000e+00])\n",
       "   message: b'CONVERGENCE: NORM_OF_PROJECTED_GRADIENT_<=_PGTOL'\n",
       "      nfev: 12\n",
       "       nit: 1\n",
       "    status: 0\n",
       "   success: True\n",
       "         x: array([0.00000000e+00, 0.00000000e+00, 4.12770000e+03, 0.00000000e+00,\n",
       "        7.36842105e-01])}"
      ]
     },
     "execution_count": 181,
     "metadata": {},
     "output_type": "execute_result"
    }
   ],
   "source": [
    "mfd._results.__dict__"
   ]
  },
  {
   "cell_type": "code",
   "execution_count": null,
   "metadata": {},
   "outputs": [],
   "source": []
  },
  {
   "cell_type": "code",
   "execution_count": null,
   "metadata": {},
   "outputs": [],
   "source": []
  },
  {
   "cell_type": "markdown",
   "metadata": {},
   "source": [
    "### Trend is not updated properly?"
   ]
  },
  {
   "cell_type": "code",
   "execution_count": 173,
   "metadata": {},
   "outputs": [
    {
     "data": {
      "text/plain": [
       "<matplotlib.axes._subplots.AxesSubplot at 0x7ffbc1e34e48>"
      ]
     },
     "execution_count": 173,
     "metadata": {},
     "output_type": "execute_result"
    },
    {
     "data": {
      "image/png": "[encoded data removed]",
      "text/plain": [
       "<Figure size 432x288 with 1 Axes>"
      ]
     },
     "metadata": {
      "needs_background": "light"
     },
     "output_type": "display_data"
    }
   ],
   "source": [
    "# generate data\n",
    "rng = np.random.RandomState(1)\n",
    "n = 5000\n",
    "mu = 10\n",
    "sd = 2\n",
    "y = np.zeros(n)\n",
    "y[0] = 3\n",
    "alpha = .75\n",
    "beta = 0.1\n",
    "for i in range(1, n // 2):\n",
    "    y[i] = (alpha * y[i - 1]) + rng.normal(loc=mu, scale=sd)\n",
    "for i in range(n // 2, n):\n",
    "    y[i] = (alpha * y[i - 1]) + (beta * (i - (n // 2))) + rng.normal(loc=mu, scale=sd)\n",
    "    \n",
    "y = pd.Series(y)\n",
    "y.plot()"
   ]
  },
  {
   "cell_type": "code",
   "execution_count": 174,
   "metadata": {},
   "outputs": [
    {
     "data": {
      "image/png": "[encoded data removed]",
      "text/plain": [
       "<Figure size 432x288 with 1 Axes>"
      ]
     },
     "metadata": {
      "needs_background": "light"
     },
     "output_type": "display_data"
    }
   ],
   "source": [
    "# split into train/test\n",
    "fh = 20 # forecast horizon\n",
    "y_train = pd.Series(y[:-fh])\n",
    "y_test = pd.Series(y[-fh:])\n",
    "\n",
    "# fit/forecast\n",
    "m = ExponentialSmoothing(y_train, trend='add', damped=False)\n",
    "mfu = m.fit()\n",
    "y_undamped = mfu.forecast(fh)\n",
    "\n",
    "m = ExponentialSmoothing(y_train, trend='add', damped=True)\n",
    "mfd = m.fit()\n",
    "y_damped = mfd.forecast(fh)\n",
    "\n",
    "# plot\n",
    "fig, ax = plt.subplots(1)\n",
    "y_train.iloc[-100:].plot(ax=ax, label='train')\n",
    "y_test.plot(ax=ax, label='test')\n",
    "y_damped.plot(ax=ax, label='damped')\n",
    "y_undamped.plot(ax=ax, label='undamped')\n",
    "plt.legend();"
   ]
  },
  {
   "cell_type": "code",
   "execution_count": null,
   "metadata": {},
   "outputs": [],
   "source": []
  },
  {
   "cell_type": "markdown",
   "metadata": {},
   "source": [
    "### Damping does not seem to work properly?"
   ]
  },
  {
   "cell_type": "code",
   "execution_count": 142,
   "metadata": {},
   "outputs": [
    {
     "data": {
      "image/png": "[encoded data removed]",
      "text/plain": [
       "<Figure size 432x288 with 1 Axes>"
      ]
     },
     "metadata": {
      "needs_background": "light"
     },
     "output_type": "display_data"
    }
   ],
   "source": [
    "# generate data\n",
    "rng = np.random.RandomState(1)\n",
    "n = 100\n",
    "y = np.zeros(n)\n",
    "y[0] = 3\n",
    "alpha = .75\n",
    "beta = 0.01\n",
    "for i in range(1, n):\n",
    "    y[i] = (alpha * y[i - 1]) + (beta * i) + rng.normal(loc=1, scale=0.5)\n",
    "y = pd.Series(y)\n",
    "\n",
    "# split into train/test\n",
    "fh = 20 # forecast horizon\n",
    "y_train = pd.Series(y[:-fh])\n",
    "y_test = pd.Series(y[-fh:])\n",
    "\n",
    "# fit/forecast\n",
    "m = ExponentialSmoothing(y_train, trend='add', damped=False)\n",
    "mf = m.fit()\n",
    "y_undamped = mf.forecast(fh)\n",
    "\n",
    "m = ExponentialSmoothing(y_train, trend='add', damped=True)\n",
    "mf = m.fit()\n",
    "y_damped = mf.forecast(fh)\n",
    "\n",
    "# plot\n",
    "fig, ax = plt.subplots(1)\n",
    "y_train.iloc[-100:].plot(ax=ax, label='train')\n",
    "y_test.plot(ax=ax, label='test')\n",
    "y_damped.plot(ax=ax, label='damped')\n",
    "y_undamped.plot(ax=ax, label='undamped')\n",
    "plt.legend();"
   ]
  },
  {
   "cell_type": "code",
   "execution_count": null,
   "metadata": {},
   "outputs": [],
   "source": []
  }
 ],
 "metadata": {
  "kernelspec": {
   "display_name": "Python 3",
   "language": "python",
   "name": "python3"
  },
  "language_info": {
   "codemirror_mode": {
    "name": "ipython",
    "version": 3
   },
   "file_extension": ".py",
   "mimetype": "text/x-python",
   "name": "python",
   "nbconvert_exporter": "python",
   "pygments_lexer": "ipython3",
   "version": "3.7.3"
  }
 },
 "nbformat": 4,
 "nbformat_minor": 2
}
