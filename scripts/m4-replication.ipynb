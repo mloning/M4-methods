{
 "cells": [
  {
   "cell_type": "markdown",
   "metadata": {},
   "source": [
    "# Replicating the M4 competition using sktime\n",
    "\n",
    "Resources: \n",
    "* [Github repo of the M4 competition](https://github.com/M4Competition/M4-methods)"
   ]
  },
  {
   "cell_type": "markdown",
   "metadata": {},
   "source": [
    "## Preliminaries"
   ]
  },
  {
   "cell_type": "code",
   "execution_count": 15,
   "metadata": {},
   "outputs": [],
   "source": [
    "import numpy as np\n",
    "import pandas as pd\n",
    "import os\n",
    "from sklearn.utils.validation import check_consistent_length\n",
    "from losses import smape_loss\n",
    "from losses import mase_loss"
   ]
  },
  {
   "cell_type": "markdown",
   "metadata": {},
   "source": [
    "### Set paths"
   ]
  },
  {
   "cell_type": "code",
   "execution_count": 3,
   "metadata": {},
   "outputs": [],
   "source": [
    "repodir = \"/Users/mloning/Documents/Research/python_methods/m4-methods/\"\n",
    "datadir = os.path.join(repodir, \"Dataset\")\n",
    "traindir = os.path.join(datadir, 'Train')\n",
    "testdir = os.path.join(datadir, 'Test')\n",
    "savedir = os.path.join(repodir, \"predictions\")\n",
    "\n",
    "assert os.path.exists(datadir)\n",
    "assert os.path.exists(traindir)\n",
    "assert os.path.exists(testdir)\n",
    "assert os.path.exists(savedir)"
   ]
  },
  {
   "cell_type": "markdown",
   "metadata": {},
   "source": [
    "### Load results from M4 competition for comparison"
   ]
  },
  {
   "cell_type": "code",
   "execution_count": 4,
   "metadata": {},
   "outputs": [
    {
     "name": "stdout",
     "output_type": "stream",
     "text": [
      "(59, 7) (59, 7)\n"
     ]
    }
   ],
   "source": [
    "m4_results = pd.read_excel(os.path.join(repodir, 'Evaluation and Ranks.xlsx'), \n",
    "                        sheet_name='Point Forecasts-Frequency',\n",
    "                        header=[0, 1]).dropna(axis=0)\n",
    "\n",
    "mase = m4_results.loc[:, ['Method', 'MASE']]\n",
    "mase.columns = mase.columns.droplevel()\n",
    "mase = mase.set_index('User ID')\n",
    "\n",
    "smape = m4_results.loc[:, ['Method', 'sMAPE']]\n",
    "smape.columns = smape.columns.droplevel()\n",
    "smape = smape.set_index('User ID')\n",
    "\n",
    "print(mase.shape, smape.shape)"
   ]
  },
  {
   "cell_type": "markdown",
   "metadata": {},
   "source": [
    "### Import meta data"
   ]
  },
  {
   "cell_type": "code",
   "execution_count": 5,
   "metadata": {},
   "outputs": [],
   "source": [
    "import pandas as pd\n",
    "info = pd.read_csv(os.path.join(datadir, 'M4-info.csv'))"
   ]
  },
  {
   "cell_type": "code",
   "execution_count": 6,
   "metadata": {},
   "outputs": [
    {
     "data": {
      "text/html": [
       "<div>\n",
       "<style scoped>\n",
       "    .dataframe tbody tr th:only-of-type {\n",
       "        vertical-align: middle;\n",
       "    }\n",
       "\n",
       "    .dataframe tbody tr th {\n",
       "        vertical-align: top;\n",
       "    }\n",
       "\n",
       "    .dataframe thead th {\n",
       "        text-align: right;\n",
       "    }\n",
       "</style>\n",
       "<table border=\"1\" class=\"dataframe\">\n",
       "  <thead>\n",
       "    <tr style=\"text-align: right;\">\n",
       "      <th></th>\n",
       "      <th>M4id</th>\n",
       "      <th>category</th>\n",
       "      <th>Frequency</th>\n",
       "      <th>Horizon</th>\n",
       "      <th>SP</th>\n",
       "      <th>StartingDate</th>\n",
       "    </tr>\n",
       "  </thead>\n",
       "  <tbody>\n",
       "    <tr>\n",
       "      <th>0</th>\n",
       "      <td>Y1</td>\n",
       "      <td>Macro</td>\n",
       "      <td>1</td>\n",
       "      <td>6</td>\n",
       "      <td>Yearly</td>\n",
       "      <td>01-01-79 12:00</td>\n",
       "    </tr>\n",
       "    <tr>\n",
       "      <th>1</th>\n",
       "      <td>Y2</td>\n",
       "      <td>Macro</td>\n",
       "      <td>1</td>\n",
       "      <td>6</td>\n",
       "      <td>Yearly</td>\n",
       "      <td>01-01-79 12:00</td>\n",
       "    </tr>\n",
       "    <tr>\n",
       "      <th>2</th>\n",
       "      <td>Y3</td>\n",
       "      <td>Macro</td>\n",
       "      <td>1</td>\n",
       "      <td>6</td>\n",
       "      <td>Yearly</td>\n",
       "      <td>01-01-79 12:00</td>\n",
       "    </tr>\n",
       "    <tr>\n",
       "      <th>3</th>\n",
       "      <td>Y4</td>\n",
       "      <td>Macro</td>\n",
       "      <td>1</td>\n",
       "      <td>6</td>\n",
       "      <td>Yearly</td>\n",
       "      <td>01-01-79 12:00</td>\n",
       "    </tr>\n",
       "    <tr>\n",
       "      <th>4</th>\n",
       "      <td>Y5</td>\n",
       "      <td>Macro</td>\n",
       "      <td>1</td>\n",
       "      <td>6</td>\n",
       "      <td>Yearly</td>\n",
       "      <td>01-01-79 12:00</td>\n",
       "    </tr>\n",
       "  </tbody>\n",
       "</table>\n",
       "</div>"
      ],
      "text/plain": [
       "  M4id category  Frequency  Horizon      SP    StartingDate\n",
       "0   Y1    Macro          1        6  Yearly  01-01-79 12:00\n",
       "1   Y2    Macro          1        6  Yearly  01-01-79 12:00\n",
       "2   Y3    Macro          1        6  Yearly  01-01-79 12:00\n",
       "3   Y4    Macro          1        6  Yearly  01-01-79 12:00\n",
       "4   Y5    Macro          1        6  Yearly  01-01-79 12:00"
      ]
     },
     "execution_count": 6,
     "metadata": {},
     "output_type": "execute_result"
    }
   ],
   "source": [
    "info.head()"
   ]
  },
  {
   "cell_type": "code",
   "execution_count": 7,
   "metadata": {},
   "outputs": [
    {
     "name": "stdout",
     "output_type": "stream",
     "text": [
      "100000\n"
     ]
    }
   ],
   "source": [
    "n_datasets = info.shape[0]\n",
    "print(n_datasets)"
   ]
  },
  {
   "cell_type": "code",
   "execution_count": 8,
   "metadata": {},
   "outputs": [
    {
     "data": {
      "text/plain": [
       "Micro          25121\n",
       "Finance        24534\n",
       "Macro          19402\n",
       "Industry       18798\n",
       "Demographic     8708\n",
       "Other           3437\n",
       "Name: category, dtype: int64"
      ]
     },
     "execution_count": 8,
     "metadata": {},
     "output_type": "execute_result"
    }
   ],
   "source": [
    "info.category.value_counts()"
   ]
  },
  {
   "cell_type": "code",
   "execution_count": 9,
   "metadata": {},
   "outputs": [
    {
     "data": {
      "text/plain": [
       "Monthly      48000\n",
       "Quarterly    24000\n",
       "Yearly       23000\n",
       "Daily         4227\n",
       "Hourly         414\n",
       "Weekly         359\n",
       "Name: SP, dtype: int64"
      ]
     },
     "execution_count": 9,
     "metadata": {},
     "output_type": "execute_result"
    }
   ],
   "source": [
    "info.SP.value_counts()"
   ]
  },
  {
   "cell_type": "code",
   "execution_count": 10,
   "metadata": {},
   "outputs": [
    {
     "data": {
      "text/plain": [
       "{'Yearly': 6,\n",
       " 'Quarterly': 8,\n",
       " 'Monthly': 18,\n",
       " 'Weekly': 13,\n",
       " 'Daily': 14,\n",
       " 'Hourly': 48}"
      ]
     },
     "execution_count": 10,
     "metadata": {},
     "output_type": "execute_result"
    }
   ],
   "source": [
    "# dictionary of forecasting horizons\n",
    "fhs = info.set_index('SP').Horizon.to_dict()\n",
    "fhs"
   ]
  },
  {
   "cell_type": "code",
   "execution_count": 11,
   "metadata": {},
   "outputs": [
    {
     "data": {
      "text/plain": [
       "{'Yearly': 1,\n",
       " 'Quarterly': 4,\n",
       " 'Monthly': 12,\n",
       " 'Weekly': 1,\n",
       " 'Daily': 1,\n",
       " 'Hourly': 24}"
      ]
     },
     "execution_count": 11,
     "metadata": {},
     "output_type": "execute_result"
    }
   ],
   "source": [
    "# dictionary of frequencies\n",
    "freqs = info.set_index('SP').Frequency.to_dict()\n",
    "freqs"
   ]
  },
  {
   "cell_type": "code",
   "execution_count": 12,
   "metadata": {},
   "outputs": [
    {
     "data": {
      "text/html": [
       "<div>\n",
       "<style scoped>\n",
       "    .dataframe tbody tr th:only-of-type {\n",
       "        vertical-align: middle;\n",
       "    }\n",
       "\n",
       "    .dataframe tbody tr th {\n",
       "        vertical-align: top;\n",
       "    }\n",
       "\n",
       "    .dataframe thead th {\n",
       "        text-align: right;\n",
       "    }\n",
       "</style>\n",
       "<table border=\"1\" class=\"dataframe\">\n",
       "  <thead>\n",
       "    <tr style=\"text-align: right;\">\n",
       "      <th></th>\n",
       "      <th>M4id</th>\n",
       "      <th>category</th>\n",
       "      <th>Frequency</th>\n",
       "      <th>Horizon</th>\n",
       "      <th>SP</th>\n",
       "      <th>StartingDate</th>\n",
       "    </tr>\n",
       "  </thead>\n",
       "  <tbody>\n",
       "    <tr>\n",
       "      <th>47003</th>\n",
       "      <td>M4</td>\n",
       "      <td>Macro</td>\n",
       "      <td>12</td>\n",
       "      <td>18</td>\n",
       "      <td>Monthly</td>\n",
       "      <td>01-09-08 12:00</td>\n",
       "    </tr>\n",
       "  </tbody>\n",
       "</table>\n",
       "</div>"
      ],
      "text/plain": [
       "      M4id category  Frequency  Horizon       SP    StartingDate\n",
       "47003   M4    Macro         12       18  Monthly  01-09-08 12:00"
      ]
     },
     "execution_count": 12,
     "metadata": {},
     "output_type": "execute_result"
    }
   ],
   "source": [
    "# look up individual time series\n",
    "info.loc[info.loc[:, 'M4id'] == 'M4', :]"
   ]
  },
  {
   "cell_type": "markdown",
   "metadata": {},
   "source": [
    "### Load data files"
   ]
  },
  {
   "cell_type": "code",
   "execution_count": 13,
   "metadata": {},
   "outputs": [
    {
     "data": {
      "text/plain": [
       "['Weekly-train.csv',\n",
       " 'Daily-train.csv',\n",
       " 'Hourly-train.csv',\n",
       " 'Monthly-train.csv',\n",
       " 'Yearly-train.csv',\n",
       " 'Quarterly-train.csv']"
      ]
     },
     "execution_count": 13,
     "metadata": {},
     "output_type": "execute_result"
    }
   ],
   "source": [
    "files = os.listdir(traindir)\n",
    "files"
   ]
  },
  {
   "cell_type": "code",
   "execution_count": 14,
   "metadata": {},
   "outputs": [
    {
     "data": {
      "text/plain": [
       "['Weekly', 'Daily', 'Hourly', 'Monthly', 'Yearly', 'Quarterly']"
      ]
     },
     "execution_count": 14,
     "metadata": {},
     "output_type": "execute_result"
    }
   ],
   "source": [
    "keys = [f.split('-')[0] for f in files]\n",
    "keys"
   ]
  },
  {
   "cell_type": "code",
   "execution_count": 120,
   "metadata": {},
   "outputs": [
    {
     "data": {
      "text/html": [
       "<div>\n",
       "<style scoped>\n",
       "    .dataframe tbody tr th:only-of-type {\n",
       "        vertical-align: middle;\n",
       "    }\n",
       "\n",
       "    .dataframe tbody tr th {\n",
       "        vertical-align: top;\n",
       "    }\n",
       "\n",
       "    .dataframe thead th {\n",
       "        text-align: right;\n",
       "    }\n",
       "</style>\n",
       "<table border=\"1\" class=\"dataframe\">\n",
       "  <thead>\n",
       "    <tr style=\"text-align: right;\">\n",
       "      <th></th>\n",
       "      <th>count</th>\n",
       "      <th>mean</th>\n",
       "      <th>std</th>\n",
       "      <th>min</th>\n",
       "      <th>25%</th>\n",
       "      <th>50%</th>\n",
       "      <th>75%</th>\n",
       "      <th>max</th>\n",
       "      <th>total_n_obs</th>\n",
       "      <th>fh</th>\n",
       "    </tr>\n",
       "  </thead>\n",
       "  <tbody>\n",
       "    <tr>\n",
       "      <th>Monthly</th>\n",
       "      <td>48000.0</td>\n",
       "      <td>216.300229</td>\n",
       "      <td>137.406295</td>\n",
       "      <td>42.0</td>\n",
       "      <td>82.0</td>\n",
       "      <td>202.0</td>\n",
       "      <td>306.0</td>\n",
       "      <td>2794.0</td>\n",
       "      <td>10382411.0</td>\n",
       "      <td>18</td>\n",
       "    </tr>\n",
       "    <tr>\n",
       "      <th>Daily</th>\n",
       "      <td>4227.0</td>\n",
       "      <td>2357.383014</td>\n",
       "      <td>1756.568917</td>\n",
       "      <td>93.0</td>\n",
       "      <td>323.0</td>\n",
       "      <td>2940.0</td>\n",
       "      <td>4197.0</td>\n",
       "      <td>9919.0</td>\n",
       "      <td>9964658.0</td>\n",
       "      <td>14</td>\n",
       "    </tr>\n",
       "    <tr>\n",
       "      <th>Quarterly</th>\n",
       "      <td>24000.0</td>\n",
       "      <td>92.254500</td>\n",
       "      <td>51.129507</td>\n",
       "      <td>16.0</td>\n",
       "      <td>62.0</td>\n",
       "      <td>88.0</td>\n",
       "      <td>115.0</td>\n",
       "      <td>866.0</td>\n",
       "      <td>2214108.0</td>\n",
       "      <td>8</td>\n",
       "    </tr>\n",
       "    <tr>\n",
       "      <th>Yearly</th>\n",
       "      <td>23000.0</td>\n",
       "      <td>31.324261</td>\n",
       "      <td>24.523966</td>\n",
       "      <td>13.0</td>\n",
       "      <td>20.0</td>\n",
       "      <td>29.0</td>\n",
       "      <td>40.0</td>\n",
       "      <td>835.0</td>\n",
       "      <td>720458.0</td>\n",
       "      <td>6</td>\n",
       "    </tr>\n",
       "    <tr>\n",
       "      <th>Weekly</th>\n",
       "      <td>359.0</td>\n",
       "      <td>1022.038997</td>\n",
       "      <td>707.148455</td>\n",
       "      <td>80.0</td>\n",
       "      <td>379.0</td>\n",
       "      <td>934.0</td>\n",
       "      <td>1603.0</td>\n",
       "      <td>2597.0</td>\n",
       "      <td>366912.0</td>\n",
       "      <td>13</td>\n",
       "    </tr>\n",
       "    <tr>\n",
       "      <th>Hourly</th>\n",
       "      <td>414.0</td>\n",
       "      <td>853.864734</td>\n",
       "      <td>127.945362</td>\n",
       "      <td>700.0</td>\n",
       "      <td>700.0</td>\n",
       "      <td>960.0</td>\n",
       "      <td>960.0</td>\n",
       "      <td>960.0</td>\n",
       "      <td>353500.0</td>\n",
       "      <td>48</td>\n",
       "    </tr>\n",
       "  </tbody>\n",
       "</table>\n",
       "</div>"
      ],
      "text/plain": [
       "             count         mean          std    min    25%     50%     75%  \\\n",
       "Monthly    48000.0   216.300229   137.406295   42.0   82.0   202.0   306.0   \n",
       "Daily       4227.0  2357.383014  1756.568917   93.0  323.0  2940.0  4197.0   \n",
       "Quarterly  24000.0    92.254500    51.129507   16.0   62.0    88.0   115.0   \n",
       "Yearly     23000.0    31.324261    24.523966   13.0   20.0    29.0    40.0   \n",
       "Weekly       359.0  1022.038997   707.148455   80.0  379.0   934.0  1603.0   \n",
       "Hourly       414.0   853.864734   127.945362  700.0  700.0   960.0   960.0   \n",
       "\n",
       "              max  total_n_obs  fh  \n",
       "Monthly    2794.0   10382411.0  18  \n",
       "Daily      9919.0    9964658.0  14  \n",
       "Quarterly   866.0    2214108.0   8  \n",
       "Yearly      835.0     720458.0   6  \n",
       "Weekly     2597.0     366912.0  13  \n",
       "Hourly      960.0     353500.0  48  "
      ]
     },
     "execution_count": 120,
     "metadata": {},
     "output_type": "execute_result"
    }
   ],
   "source": [
    "sl = []\n",
    "for key in keys:\n",
    "    alltrain = pd.read_csv(os.path.join(traindir, f'{key}-train.csv'),\n",
    "                           index_col=0)\n",
    "    sl.append(alltrain.notna().sum(axis=1).describe())\n",
    "\n",
    "series_lengths = pd.concat(sl, axis=1).T\n",
    "series_lengths.index = keys\n",
    "series_lengths['total_n_obs'] = series_lengths['count'] * series_lengths['mean']\n",
    "series_lengths['fh'] = pd.Series(fhs)\n",
    "series_lengths.sort_values('total_n_obs', ascending=False)"
   ]
  },
  {
   "cell_type": "markdown",
   "metadata": {},
   "source": [
    "### Compare results"
   ]
  },
  {
   "cell_type": "code",
   "execution_count": 41,
   "metadata": {},
   "outputs": [],
   "source": [
    "assert n_datasets == info.SP.value_counts()[key]\n",
    "\n",
    "selected_methods = ['Naive', 'Naive2', 'SES', 'Holt' ,'Damped']\n",
    "n_selected_methods = len(selected_methods)\n",
    "sig = key[0] \n",
    "\n",
    "replicated = np.zeros((n_selected_methods, 2))\n",
    "original = np.zeros((n_selected_methods, 2))\n",
    "for j, method in enumerate(selected_methods):\n",
    "    results = np.zeros((n_datasets, 2))\n",
    "    for i in range(n_datasets):\n",
    "        fname = f\"{method}_{sig}{i}_y_pred.txt\"\n",
    "        y_pred = np.loadtxt(os.path.join(savedir, fname))\n",
    "        y_train = alltrain.iloc[i, :].dropna().reset_index(drop=True)\n",
    "        y_test = alltest.iloc[i, :].dropna().reset_index(drop=True)\n",
    "        results[i, 0] = mase_loss(y_test, y_pred, y_train, freq=freq)\n",
    "        results[i, 1] = smape_loss(y_test, y_pred)\n",
    "\n",
    "    replicated[j, :] = results.mean(axis=0)\n",
    "    original[j, :] = np.hstack([mase.loc[method, key], smape.loc[method, key]])\n",
    "\n",
    "replicated = pd.DataFrame(replicated, index=selected_methods, columns=['mase', 'smape'])\n",
    "original = pd.DataFrame(original, index=selected_methods, columns=['mase', 'smape'])"
   ]
  },
  {
   "cell_type": "code",
   "execution_count": 17,
   "metadata": {},
   "outputs": [],
   "source": [
    "def percentage_difference(x, y):\n",
    "    return (x - y) / x * 100"
   ]
  },
  {
   "cell_type": "code",
   "execution_count": 64,
   "metadata": {},
   "outputs": [
    {
     "data": {
      "text/html": [
       "<div>\n",
       "<style scoped>\n",
       "    .dataframe tbody tr th:only-of-type {\n",
       "        vertical-align: middle;\n",
       "    }\n",
       "\n",
       "    .dataframe tbody tr th {\n",
       "        vertical-align: top;\n",
       "    }\n",
       "\n",
       "    .dataframe thead th {\n",
       "        text-align: right;\n",
       "    }\n",
       "</style>\n",
       "<table border=\"1\" class=\"dataframe\">\n",
       "  <thead>\n",
       "    <tr style=\"text-align: right;\">\n",
       "      <th></th>\n",
       "      <th>mase</th>\n",
       "      <th>smape</th>\n",
       "    </tr>\n",
       "  </thead>\n",
       "  <tbody>\n",
       "    <tr>\n",
       "      <th>Naive</th>\n",
       "      <td>0.000</td>\n",
       "      <td>0.000</td>\n",
       "    </tr>\n",
       "    <tr>\n",
       "      <th>Naive2</th>\n",
       "      <td>0.000</td>\n",
       "      <td>0.000</td>\n",
       "    </tr>\n",
       "    <tr>\n",
       "      <th>SES</th>\n",
       "      <td>0.037</td>\n",
       "      <td>0.011</td>\n",
       "    </tr>\n",
       "    <tr>\n",
       "      <th>Holt</th>\n",
       "      <td>1.612</td>\n",
       "      <td>3.358</td>\n",
       "    </tr>\n",
       "    <tr>\n",
       "      <th>Damped</th>\n",
       "      <td>-2.995</td>\n",
       "      <td>-2.628</td>\n",
       "    </tr>\n",
       "  </tbody>\n",
       "</table>\n",
       "</div>"
      ],
      "text/plain": [
       "         mase  smape\n",
       "Naive   0.000  0.000\n",
       "Naive2  0.000  0.000\n",
       "SES     0.037  0.011\n",
       "Holt    1.612  3.358\n",
       "Damped -2.995 -2.628"
      ]
     },
     "execution_count": 64,
     "metadata": {},
     "output_type": "execute_result"
    }
   ],
   "source": [
    "perc_diff = ((original - replicated.round(3)) / original * 100).round(3)\n",
    "perc_diff"
   ]
  },
  {
   "cell_type": "code",
   "execution_count": null,
   "metadata": {},
   "outputs": [],
   "source": []
  },
  {
   "cell_type": "code",
   "execution_count": null,
   "metadata": {},
   "outputs": [],
   "source": []
  }
 ],
 "metadata": {
  "kernelspec": {
   "display_name": "Python 3",
   "language": "python",
   "name": "python3"
  },
  "language_info": {
   "codemirror_mode": {
    "name": "ipython",
    "version": 3
   },
   "file_extension": ".py",
   "mimetype": "text/x-python",
   "name": "python",
   "nbconvert_exporter": "python",
   "pygments_lexer": "ipython3",
   "version": "3.7.3"
  }
 },
 "nbformat": 4,
 "nbformat_minor": 2
}
